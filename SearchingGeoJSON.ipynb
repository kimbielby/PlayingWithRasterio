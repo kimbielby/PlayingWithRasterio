{
 "cells": [
  {
   "cell_type": "markdown",
   "source": [
    "- SEARCH THE GEOJSON FILE TO GET UUID OF OBJECT THAT HAS COORDS BTWN MAX AND MIN X-Y"
   ],
   "metadata": {
    "collapsed": false
   }
  },
  {
   "cell_type": "code",
   "execution_count": null,
   "outputs": [],
   "source": [
    "# Import a GeoJSON reader\n",
    "import json\n",
    "# Import the Tree_Labels GeoJSON file\n",
    "the_file = open(\"Tree_Labels.geojson\")\n",
    "tree_labs = json.load(the_file)\n",
    "\n",
    "# Iterate through tree_labs\n",
    "if \"features\" in tree_labs:\n",
    "    print(\"Yes\")\n",
    "    for i in tree_labs[\"features\"]:\n",
    "        uuid_num = i[\"properties\"][\"uuid\"]\n",
    "        if uuid_num < 10:\n",
    "            print(i[\"properties\"][\"uuid\"]) # Print the uuid if it is under 10\n",
    "\n"
   ],
   "metadata": {
    "collapsed": false
   }
  },
  {
   "cell_type": "code",
   "execution_count": null,
   "outputs": [],
   "source": [],
   "metadata": {
    "collapsed": false
   }
  }
 ],
 "metadata": {
  "kernelspec": {
   "display_name": "Python 3",
   "language": "python",
   "name": "python3"
  },
  "language_info": {
   "codemirror_mode": {
    "name": "ipython",
    "version": 2
   },
   "file_extension": ".py",
   "mimetype": "text/x-python",
   "name": "python",
   "nbconvert_exporter": "python",
   "pygments_lexer": "ipython2",
   "version": "2.7.6"
  }
 },
 "nbformat": 4,
 "nbformat_minor": 0
}
