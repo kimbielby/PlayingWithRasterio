{
 "cells": [
  {
   "cell_type": "markdown",
   "source": [
    "- SEARCH THE GEOJSON FILE TO GET UUID OF OBJECT THAT HAS COORDS BTWN MAX AND MIN X-Y"
   ],
   "metadata": {
    "collapsed": false
   }
  },
  {
   "cell_type": "code",
   "execution_count": null,
   "outputs": [],
   "source": [
    "# Import a GeoJSON reader\n",
    "# Import the Tree_Labels GeoJSON file"
   ],
   "metadata": {
    "collapsed": false
   }
  }
 ],
 "metadata": {
  "kernelspec": {
   "display_name": "Python 3",
   "language": "python",
   "name": "python3"
  },
  "language_info": {
   "codemirror_mode": {
    "name": "ipython",
    "version": 2
   },
   "file_extension": ".py",
   "mimetype": "text/x-python",
   "name": "python",
   "nbconvert_exporter": "python",
   "pygments_lexer": "ipython2",
   "version": "2.7.6"
  }
 },
 "nbformat": 4,
 "nbformat_minor": 0
}
