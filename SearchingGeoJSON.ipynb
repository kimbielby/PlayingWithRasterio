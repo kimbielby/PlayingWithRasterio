{
 "cells": [
  {
   "cell_type": "markdown",
   "source": [
    "- SEARCH THE GEOJSON FILE TO GET UUID OF OBJECT THAT HAS COORDS BTWN MAX AND MIN X-Y"
   ],
   "metadata": {
    "collapsed": false
   }
  },
  {
   "cell_type": "code",
   "execution_count": null,
   "outputs": [],
   "source": [
    "import numpy as np\n",
    "import json\n",
    "# Import the Tree_Labels GeoJSON file\n",
    "the_file = open(\"Tree_Labels.geojson\")\n",
    "tree_labs = json.load(the_file)\n",
    "\n",
    "# Iterate through tree_labs to find the uuid\n",
    "if \"features\" in tree_labs:\n",
    "    print(\"Yes\")\n",
    "    for i in tree_labs[\"features\"]:\n",
    "        uuid_num = i[\"properties\"][\"uuid\"]\n",
    "        if uuid_num < 10:\n",
    "            print(i[\"properties\"][\"uuid\"]) # Print the uuid if it is under 10\n",
    "\n"
   ],
   "metadata": {
    "collapsed": false
   }
  },
  {
   "cell_type": "code",
   "execution_count": null,
   "outputs": [],
   "source": [
    "# Print the coordinates of each uuid that is under 10\n",
    "for i in tree_labs[\"features\"]:\n",
    "    uuid_num = i[\"properties\"][\"uuid\"]\n",
    "    if uuid_num < 10:\n",
    "        coords = i[\"geometry\"][\"coordinates\"]\n",
    "        print(coords)\n"
   ],
   "metadata": {
    "collapsed": false
   }
  },
  {
   "cell_type": "code",
   "execution_count": null,
   "outputs": [],
   "source": [
    "for i in tree_labs[\"features\"]:\n",
    "    uuid_num = i[\"properties\"][\"uuid\"]\n",
    "    if uuid_num == 1:\n",
    "        coords_array = np.array(i[\"geometry\"][\"coordinates\"])\n",
    "        # print(\"The length of the array is: \")\n",
    "        # print(len(coords_array))\n",
    "        print(\"All the coordinate arrays for this uuid are: \")\n",
    "        print(coords_array[0])\n",
    "        print(\"\")\n",
    "        print(\"The first bounding box coordinate arrays are: \")\n",
    "        print(coords_array[0][0])\n",
    "        print(\"\")\n",
    "        print(\"The first (array of) bounding box coordinates are: \")\n",
    "        print(coords_array[0][0][0])\n",
    "        print(\"\")\n",
    "        first_c = coords_array[0][0][0]\n",
    "        if first_c[0] >= 279412.91098934:\n",
    "            print(\"The first x-coordinate is: \")\n",
    "            print(first_c[0])\n",
    "            print(coords_array[0][0][0][0]) # This takes it down to the x coord of the first bounding box's first corner\n",
    "        print(\"The first y-coordinate is: \")\n",
    "        print(first_c[1])\n",
    "\n"
   ],
   "metadata": {
    "collapsed": false
   }
  },
  {
   "cell_type": "code",
   "execution_count": null,
   "outputs": [],
   "source": [
    "# Check the first x-y coordinate of each uuid to see if it is within bounds\n",
    "total_poss = 0 # Number of possible bounding boxes in image\n",
    "poss_uuim_list = [] # Empty list to put in uuim nums of possible bounding boxes in image\n",
    "for i in tree_labs[\"features\"]: # Check each bounding box\n",
    "    uuid_num = i[\"properties\"][\"uuid\"] # Stores the uuim of the current bounding box object we are in\n",
    "    coords_array2 = np.array(i[\"geometry\"][\"coordinates\"]) # Holds all the arrays of each vertex in the current bounding box\n",
    "    if len(coords_array2)>0: # Make sure the coordinates arrays are not empty\n",
    "        current_bbox = coords_array2[0][0][0] # First vertex of the current bounding box\n",
    "        # Make sure the x and y coordinates of the first vertex are within image bounds\n",
    "        if current_bbox[0]>=279255.7771: # Is x coordinate more than or equal to image min\n",
    "            if current_bbox[0]<=279521.4213: # Is x coordinate less than or equal to image max\n",
    "                if current_bbox[1]>=693507.1507621396: # Is y coordinate more than or equal to image min\n",
    "                    if current_bbox[1]<=693690.5070378605: # Is y coordinate less than or equal to image max\n",
    "                        poss_uuim_list.append(uuid_num) # Appends uuim to list if first coordinates are within bounds\n",
    "                        print(uuid_num) # If all above is true, print the uuid for that bounding box\n",
    "                        total_poss+=1 # Plus 1 the number of possible bounding boxes in image\n",
    "print(\"Total number of possible bounding boxes: \")\n",
    "print(total_poss)\n",
    "print(\"List of possible uuim numbers: \")\n",
    "print(poss_uuim_list)\n"
   ],
   "metadata": {
    "collapsed": false
   }
  },
  {
   "cell_type": "code",
   "execution_count": null,
   "outputs": [],
   "source": [
    "# TODO: Go through geojson and get coordinates for each uuim on poss_uuim_list\n"
   ],
   "metadata": {
    "collapsed": false
   }
  }
 ],
 "metadata": {
  "kernelspec": {
   "display_name": "Python 3",
   "language": "python",
   "name": "python3"
  },
  "language_info": {
   "codemirror_mode": {
    "name": "ipython",
    "version": 2
   },
   "file_extension": ".py",
   "mimetype": "text/x-python",
   "name": "python",
   "nbconvert_exporter": "python",
   "pygments_lexer": "ipython2",
   "version": "2.7.6"
  }
 },
 "nbformat": 4,
 "nbformat_minor": 0
}
