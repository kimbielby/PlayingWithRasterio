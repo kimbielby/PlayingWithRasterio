{
 "cells": [
  {
   "cell_type": "markdown",
   "source": [
    "Start by importing rasterio and checking how it reacts to datasets in various file formats"
   ],
   "metadata": {
    "collapsed": false
   }
  },
  {
   "cell_type": "code",
   "execution_count": 21,
   "outputs": [
    {
     "name": "stdout",
     "output_type": "stream",
     "text": [
      "(1, 2, 3, 4)\n",
      "[[187 185 173 ...  80  79  78]\n",
      " [188 189 192 ...  79  77  75]\n",
      " [190 191 195 ...  78  77  74]\n",
      " ...\n",
      " [255 255 255 ... 151  35   4]\n",
      " [255 255 255 ... 255 255 255]\n",
      " [255 255 255 ... 255 255 255]]\n"
     ]
    }
   ],
   "source": [
    "import rasterio as rio\n",
    "dataset1 = rio.open('shouldbeworking2.tif')\n",
    "dataset2 = rio.open('testing2.tif')\n",
    "\"\"\"print(\"dataset width, height and bounds: \")\n",
    "print(dataset1.width)\n",
    "print(dataset1.height)\n",
    "print(dataset1.bounds)\n",
    "\n",
    "print(\"dataset2 width, height and bounds: \")\n",
    "print(dataset2.width)\n",
    "print(dataset2.height)\n",
    "print(dataset2.bounds)\n",
    "\n",
    "print(\"Top Left coordinates are: \")\n",
    "print(dataset1.transform * (0, 0))\n",
    "print(\"Bottom Right coordinates are: \")\n",
    "print(dataset1.transform * (dataset1.width, dataset1.height))\n",
    "print(\"Top Right coordinates are: \")\n",
    "print(dataset1.transform * (dataset1.width, 0))\n",
    "print(\"Bottom Left coordinates are: \")\n",
    "print(dataset1.transform * (0, dataset1.height))\"\"\"\n",
    "print(dataset1.indexes)\n",
    "band1 = dataset1.read(1)\n",
    "print(band1)\n"
   ],
   "metadata": {
    "collapsed": false
   }
  },
  {
   "cell_type": "code",
   "execution_count": null,
   "outputs": [],
   "source": [],
   "metadata": {
    "collapsed": false
   }
  }
 ],
 "metadata": {
  "kernelspec": {
   "display_name": "Python 3",
   "language": "python",
   "name": "python3"
  },
  "language_info": {
   "codemirror_mode": {
    "name": "ipython",
    "version": 2
   },
   "file_extension": ".py",
   "mimetype": "text/x-python",
   "name": "python",
   "nbconvert_exporter": "python",
   "pygments_lexer": "ipython2",
   "version": "2.7.6"
  }
 },
 "nbformat": 4,
 "nbformat_minor": 0
}
