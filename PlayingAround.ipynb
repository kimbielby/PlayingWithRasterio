{
 "cells": [
  {
   "cell_type": "markdown",
   "source": [
    "Start by importing rasterio and checking how it reacts to datasets in various file formats"
   ],
   "metadata": {
    "collapsed": false
   }
  },
  {
   "cell_type": "code",
   "execution_count": null,
   "outputs": [],
   "source": [
    "import rasterio as rio\n",
    "\n",
    "dataset1 = rio.open('shouldbeworking2.tif')\n",
    "#dataset2 = rio.open('testing2.tif')\n",
    "\n",
    "\"\"\"\n",
    "print(\"dataset width, height and bounds: \")\n",
    "print(dataset1.width)\n",
    "print(dataset1.height)\n",
    "print(dataset1.bounds)\n",
    "\n",
    "print(\"dataset2 width, height and bounds: \")\n",
    "print(dataset2.width)\n",
    "print(dataset2.height)\n",
    "print(dataset2.bounds)\n",
    "\n",
    "print(\"Top Left coordinates are: \")\n",
    "print(dataset1.transform * (0, 0))\n",
    "print(\"Bottom Right coordinates are: \")\n",
    "print(dataset1.transform * (dataset1.width, dataset1.height))\n",
    "print(\"Top Right coordinates are: \")\n",
    "print(dataset1.transform * (dataset1.width, 0))\n",
    "print(\"Bottom Left coordinates are: \")\n",
    "print(dataset1.transform * (0, dataset1.height))\n",
    "\"\"\"\n",
    "print(dataset1.indexes)\n",
    "band1 = dataset1.read(1)\n",
    "print(band1)\n",
    "\n",
    "\n"
   ],
   "metadata": {
    "collapsed": false
   }
  },
  {
   "cell_type": "code",
   "execution_count": 6,
   "outputs": [
    {
     "name": "stdout",
     "output_type": "stream",
     "text": [
      "dataset1 width, height and bounds: \n",
      "2150\n",
      "1484\n",
      "BoundingBox(left=279255.7771, bottom=693507.1507621396, right=279521.4213, top=693690.5070378605)\n",
      "279255.7771\n"
     ]
    }
   ],
   "source": [
    "# datasetAll = rio.open('AnotherTryoutput.tif')\n",
    "# print(\"datasetAll width, height and bounds: \")\n",
    "# print(datasetAll.width)\n",
    "# print(datasetAll.height)\n",
    "# print(datasetAll.bounds)\n",
    "\n",
    "print(\"dataset1 width, height and bounds: \")\n",
    "print(dataset1.width)\n",
    "print(dataset1.height)\n",
    "print(dataset1.bounds)\n",
    "print(dataset1.bounds.left)\n"
   ],
   "metadata": {
    "collapsed": false
   }
  },
  {
   "cell_type": "markdown",
   "source": [
    "- Get max x-y coords for dataset1\n",
    "- find Tree_Labels coords that are within those bounds\n",
    "- Figure out how much minus from top-left corner in real terms a location is\n",
    "- in order to get pixel location (I think?)\n",
    "\n",
    "e.g. this is 100km east of top-left and 50km south of top-left\n",
    "x, y = (dataset.bounds.left + 100000, dataset.bounds.top - 50000)\n",
    "row, col = dataset.index(x, y)\n",
    "row, col\n",
    "(1666, 3333)\n",
    "band1[row, col]\n",
    "7566\n",
    "\n",
    "Must be btwn"
   ],
   "metadata": {
    "collapsed": false
   }
  },
  {
   "cell_type": "code",
   "execution_count": null,
   "outputs": [],
   "source": [
    "print(band1[dataset1.height // 2, dataset1.width // 2])\n",
    "\n"
   ],
   "metadata": {
    "collapsed": false
   }
  },
  {
   "cell_type": "code",
   "execution_count": null,
   "outputs": [],
   "source": [
    "x, y = (dataset1.bounds.left + 6314.8233,dataset1.bounds.top - 4275.2599801886)\n",
    "row, col = dataset1.index(x,y)\n",
    "print(row, col)\n",
    "\n"
   ],
   "metadata": {
    "collapsed": false
   }
  }
 ],
 "metadata": {
  "kernelspec": {
   "display_name": "Python 3",
   "language": "python",
   "name": "python3"
  },
  "language_info": {
   "codemirror_mode": {
    "name": "ipython",
    "version": 2
   },
   "file_extension": ".py",
   "mimetype": "text/x-python",
   "name": "python",
   "nbconvert_exporter": "python",
   "pygments_lexer": "ipython2",
   "version": "2.7.6"
  }
 },
 "nbformat": 4,
 "nbformat_minor": 0
}
