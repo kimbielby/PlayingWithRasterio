{
 "cells": [
  {
   "cell_type": "markdown",
   "source": [
    "- SEARCH THE GEOJSON FILE TO GET UUID OF OBJECT THAT HAS COORDS BTWN MAX AND MIN X-Y"
   ],
   "metadata": {
    "collapsed": false
   }
  },
  {
   "cell_type": "code",
   "execution_count": null,
   "outputs": [],
   "source": [
    "import numpy as np\n",
    "import json\n",
    "# Import the Tree_Labels GeoJSON file\n",
    "the_file = open(\"Tree_Labels.geojson\")\n",
    "tree_labs = json.load(the_file)\n",
    "\n",
    "# Iterate through tree_labs to find the uuid\n",
    "if \"features\" in tree_labs:\n",
    "    for i in tree_labs[\"features\"]:\n",
    "        uuid_num = i[\"properties\"][\"uuid\"]\n",
    "\n"
   ],
   "metadata": {
    "collapsed": false
   }
  },
  {
   "cell_type": "code",
   "execution_count": null,
   "outputs": [],
   "source": [
    "# Print the coordinates of each uuid that is under 10\n",
    "for i in tree_labs[\"features\"]:\n",
    "    uuid_num = i[\"properties\"][\"uuid\"]\n",
    "    if uuid_num < 10:\n",
    "        coords = i[\"geometry\"][\"coordinates\"]\n",
    "        print(coords)\n"
   ],
   "metadata": {
    "collapsed": false
   }
  },
  {
   "cell_type": "code",
   "execution_count": null,
   "outputs": [],
   "source": [
    "for i in tree_labs[\"features\"]:\n",
    "    uuid_num = i[\"properties\"][\"uuid\"]\n",
    "    if uuid_num == 1:\n",
    "        coords_array = np.array(i[\"geometry\"][\"coordinates\"])\n",
    "        first_c = coords_array[0][0][0]\n",
    "        if first_c[0] >= 279412.91098934:\n",
    "            print(\"The first x-coordinate is: \")\n",
    "            print(first_c[0])\n",
    "            print(coords_array[0][0][0][0]) # This takes it down to the x coord of the first bounding box's first corner\n",
    "        print(\"The first y-coordinate is: \")\n",
    "        print(first_c[1])\n"
   ],
   "metadata": {
    "collapsed": false
   }
  },
  {
   "cell_type": "code",
   "execution_count": null,
   "outputs": [],
   "source": [
    "# Check the first x-y coordinate of each uuid to see if it is within bounds\n",
    "total_poss = 0 # Number of possible bounding boxes in image\n",
    "poss_uuim_list = [] # Empty list to put in uuim nums of possible bounding boxes in image\n",
    "for i in tree_labs[\"features\"]: # Check each bounding box\n",
    "    uuid_num = i[\"properties\"][\"uuid\"] # Stores the uuim of the current bounding box object we are in\n",
    "    coords_array2 = np.array(i[\"geometry\"][\"coordinates\"]) # Holds all the arrays of each vertex in the current bounding box\n",
    "    if len(coords_array2)>0: # Make sure the coordinates arrays are not empty\n",
    "        current_bbox = coords_array2[0][0][0] # First vertex of the current bounding box\n",
    "        # TODO: Put image max and min in vars? - SEE BOXES BELOW\n",
    "        # Make sure the x and y coordinates of the first vertex are within image bounds\n",
    "        if 279255.7771 <= current_bbox[0] <= 279521.4213 and 693507.1507621396 <= current_bbox[\n",
    "                1] <= 693690.5070378605:\n",
    "            poss_uuim_list.append(uuid_num) # Appends uuim to list if first coordinates are within bounds\n",
    "            total_poss+=1 # Plus 1 the number of possible bounding boxes in image\n",
    "\n"
   ],
   "metadata": {
    "collapsed": false
   }
  },
  {
   "cell_type": "code",
   "execution_count": null,
   "outputs": [],
   "source": [
    "# Go through geojson and get coordinates for each uuim on poss_uuim_list\n",
    "full_coords_list = []\n",
    "for i in poss_uuim_list:\n",
    "    for j in tree_labs[\"features\"]:\n",
    "        if i == j[\"properties\"][\"uuid\"]:\n",
    "            full_coords_list.append(j[\"geometry\"][\"coordinates\"])\n"
   ],
   "metadata": {
    "collapsed": false
   }
  },
  {
   "cell_type": "code",
   "execution_count": null,
   "outputs": [],
   "source": [
    "# Take certain coords from full_coords_list and put them into a seperate list with following pattern:\n",
    "#  image_path (name of image); xmin; ymin; xmax; ymax; label (e.g. 'tree')\n",
    "for_csv = [] # The list of lists for bounding boxes in image\n",
    "image_name = \"theImageName\"\n",
    "label = \"tree\"\n",
    "\n",
    "for i in full_coords_list:\n",
    "    # Get mins and maxs of bounding box\n",
    "    geo_xmin = i[0][0][0][0]\n",
    "    geo_ymin = i[0][0][0][1]\n",
    "    geo_xmax = i[0][0][2][0]\n",
    "    geo_ymax = i[0][0][1][1]\n",
    "\n",
    "    # Put everything in order for line in csv into a list\n",
    "    temp_list = [image_name, geo_xmin, geo_ymin, geo_xmax, geo_ymax, label]\n",
    "    # Add that bounding box list to the list of all bounding boxes in image\n",
    "    for_csv.append(temp_list)\n"
   ],
   "metadata": {
    "collapsed": false
   }
  },
  {
   "cell_type": "code",
   "execution_count": null,
   "outputs": [],
   "source": [
    "# Calculate pixel per geocoord metre in the image\n",
    "import rasterio as rio\n",
    "the_image = rio.open('shouldbeworking2.tif')\n",
    "\n",
    "# Width and Height of image in pixels\n",
    "img_width_px = the_image.width\n",
    "img_height_px = the_image.height\n",
    "\n",
    "# Geolocation boundaries of image\n",
    "img_left_bounds = the_image.bounds.left\n",
    "img_right_bounds = the_image.bounds.right\n",
    "img_top_bounds = the_image.bounds.top\n",
    "img_bottom_bounds = the_image.bounds.bottom\n",
    "\n",
    "# Width and Height of image in geo-coord metres\n",
    "x_coords_span = img_right_bounds - img_left_bounds\n",
    "y_coords_span = img_top_bounds - img_bottom_bounds\n",
    "\n",
    "# Image pixels per geo-coord metre\n",
    "# todo: Limit result to certain s.f.?\n",
    "px_per_m = img_width_px / x_coords_span\n",
    "\n",
    "# for i in for_csv:\n",
    "#     print(i)\n"
   ],
   "metadata": {
    "collapsed": false
   }
  },
  {
   "cell_type": "code",
   "execution_count": null,
   "outputs": [],
   "source": [
    "# Calculate image pixel min-max for bounding box and replace their geocoord equivalent in for_csv List\n",
    "\n",
    "for i in range(len(for_csv)):\n",
    "    # The xmin in pixels: geocoords of left edge of bounding box minus geocoords of left edge of image\n",
    "    # multiplied by pixels per metre to turn geocoord difference into pixel difference\n",
    "\n",
    "    px_xmin = (for_csv[i][1] - img_left_bounds) * px_per_m\n",
    "    px_ymin = (img_top_bounds - for_csv[i][4]) * px_per_m # Remember image pixel coords start top-left not bottom-right\n",
    "    px_xmax = (img_right_bounds - for_csv[i][3]) * px_per_m\n",
    "    px_ymax = (img_top_bounds - for_csv[i][2]) * px_per_m # Remember image pixel coords start top-left not bottom-right\n",
    "\n",
    "    # Now replace items in positions 1 through 4 in the List\n",
    "    for_csv[i][1:5] = [px_xmin, px_ymin, px_xmax, px_ymax]\n",
    "\n"
   ],
   "metadata": {
    "collapsed": false
   }
  },
  {
   "cell_type": "code",
   "execution_count": null,
   "outputs": [],
   "source": [
    "# TODO: Change coords from geo to image - See W3Schools, change list items, Change Item Value and Change a Range of Item Values\n",
    "# todo: pixels per coord metre = pixels divided by difference of coord max and min\n",
    "# TODO: THIS IS FOR THE FIRST BOUNDING BOX\n",
    "# x geocoord = 265.6442 m (?) - SPANNING THE X AXIS\n",
    "# y geocoord = 183.3562757209 m (?) - SPANNING THE Y AXIS\n",
    "# x pixels = 2150 - IMAGE WIDTH IN PIXELS\n",
    "# y pixels = 1484 - IMAGE HEIGHT IN PIXELS\n",
    "# 8.09353262747 pixels per metre - x axis\n",
    "# 8.09353262747 pixels per metre - y axis\n",
    "# xmin is 368 px\n",
    "# ymin is 984 px - REMEMBER IMAGE COORDS GO FROM TOP LEFT NOT BOTTOM LEFT!!\n",
    "# xmax is 1709 px\n",
    "# ymax is 1083 px - REMEMBER IMAGE COORDS GO FROM TOP LEFT NOT BOTTOM LEFT!!"
   ],
   "metadata": {
    "collapsed": false
   }
  },
  {
   "cell_type": "code",
   "execution_count": null,
   "outputs": [],
   "source": [
    "# TODO: Put for_csv into json format\n",
    "import pandas\n",
    "\n",
    "columns = [\"image_path\", \"xmin\", \"ymin\", \"xmax\", \"ymax\", \"label\"]\n",
    "# TODO: Should I just delete the first column, the one with the index from 0?\n",
    "#index = [i[0] for i in for_csv] # Makes the first element the index, in this case image_path will be index\n",
    "not_index_list = [i for i in for_csv]\n",
    "pd = pandas.DataFrame(not_index_list, columns=columns)\n",
    "\n",
    "# Create csv with column headers and index\n",
    "pd.to_csv(\"bounding.csv\")\n",
    "# print(pd)\n",
    "\n"
   ],
   "metadata": {
    "collapsed": false
   }
  },
  {
   "cell_type": "code",
   "execution_count": null,
   "outputs": [],
   "source": [],
   "metadata": {
    "collapsed": false
   }
  }
 ],
 "metadata": {
  "kernelspec": {
   "display_name": "Python 3",
   "language": "python",
   "name": "python3"
  },
  "language_info": {
   "codemirror_mode": {
    "name": "ipython",
    "version": 2
   },
   "file_extension": ".py",
   "mimetype": "text/x-python",
   "name": "python",
   "nbconvert_exporter": "python",
   "pygments_lexer": "ipython2",
   "version": "2.7.6"
  }
 },
 "nbformat": 4,
 "nbformat_minor": 0
}
